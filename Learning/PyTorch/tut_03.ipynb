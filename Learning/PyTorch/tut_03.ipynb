{
 "cells": [
  {
   "cell_type": "markdown",
   "metadata": {},
   "source": [
    "# Init"
   ]
  },
  {
   "cell_type": "code",
   "execution_count": 1,
   "metadata": {},
   "outputs": [],
   "source": [
    "import torch\n",
    "import torch.nn as nn\n",
    "import torch.nn.functional as F"
   ]
  },
  {
   "cell_type": "markdown",
   "metadata": {},
   "source": [
    "# Network Definition"
   ]
  },
  {
   "cell_type": "code",
   "execution_count": 2,
   "metadata": {},
   "outputs": [],
   "source": [
    "class Net( nn.Module ):\n",
    "    \"\"\" Create a multi layer network for classifying mnist \"\"\"\n",
    "\n",
    "    def __init__( self ):\n",
    "        \"\"\" Set up the network \"\"\"\n",
    "        super().__init__()\n",
    "        self.conv1 = nn.Conv2d( 1 ,  6 , 3 ) # kernel: 1 input image channel  ,  6 output channels, 3x3 square convolution\n",
    "        self.conv2 = nn.Conv2d( 6 , 16 , 3 ) # kernel: 6 input sample channels, 16 output channels, 3x3 square convolution\n",
    "        # an affine operation: y = Wx + b\n",
    "        self.fc1 = nn.Linear( 16 * 6 * 6 , 120 )  # 6*6 from image dimension\n",
    "        self.fc2 = nn.Linear( 120        ,  84 )\n",
    "        self.fc3 = nn.Linear(  84        ,  10 )\n",
    "\n",
    "    def forward( self , x ):\n",
    "        \"\"\" Feed-forward (Classify) \n",
    "        You just have to define the forward function, and the backward function (where gradients are computed) is automatically defined for you using autograd. \n",
    "        You can use any of the Tensor operations in the forward function.\n",
    "        \"\"\"\n",
    "        x = F.max_pool2d( F.relu( self.conv1( x ) ) , (2,2) ) # Max pooling over a (2, 2) window\n",
    "        x = F.max_pool2d( F.relu( self.conv2( x ) ) , 2     ) # If the size is a square you can only specify a single number\n",
    "        x = x.view( -1 , self.num_flat_features( x ) ) # Flatten\n",
    "        x = F.relu( self.fc1( x ) )\n",
    "        x = F.relu( self.fc2( x ) )\n",
    "        x = self.fc3( x )\n",
    "        return x\n",
    "\n",
    "    def num_flat_features( self , x ):\n",
    "        \"\"\" Get the number of features \"\"\"\n",
    "        size = x.size()[1:]  # all dimensions except the batch dimension\n",
    "        num_features = 1\n",
    "        for s in size:\n",
    "            num_features *= s\n",
    "        return num_features"
   ]
  },
  {
   "cell_type": "code",
   "execution_count": 3,
   "metadata": {},
   "outputs": [
    {
     "name": "stdout",
     "output_type": "stream",
     "text": [
      "Net(\n",
      "  (conv1): Conv2d(1, 6, kernel_size=(3, 3), stride=(1, 1))\n",
      "  (conv2): Conv2d(6, 16, kernel_size=(3, 3), stride=(1, 1))\n",
      "  (fc1): Linear(in_features=576, out_features=120, bias=True)\n",
      "  (fc2): Linear(in_features=120, out_features=84, bias=True)\n",
      "  (fc3): Linear(in_features=84, out_features=10, bias=True)\n",
      ")\n"
     ]
    }
   ],
   "source": [
    "net = Net()\n",
    "print( net )"
   ]
  },
  {
   "cell_type": "code",
   "execution_count": 4,
   "metadata": {},
   "outputs": [
    {
     "name": "stdout",
     "output_type": "stream",
     "text": [
      "10\n",
      "torch.Size([6, 1, 3, 3])\n"
     ]
    }
   ],
   "source": [
    "params = list(net.parameters())\n",
    "print(len(params))\n",
    "print(params[0].size())  # conv1's .weight"
   ]
  },
  {
   "cell_type": "markdown",
   "metadata": {},
   "source": [
    "# Test a dummy input"
   ]
  },
  {
   "cell_type": "code",
   "execution_count": 5,
   "metadata": {},
   "outputs": [
    {
     "name": "stdout",
     "output_type": "stream",
     "text": [
      "tensor([[ 0.1161,  0.1031,  0.1137,  0.1401, -0.0887,  0.0926,  0.1225, -0.0719,\n",
      "         -0.0472,  0.0322]], grad_fn=<AddmmBackward>)\n"
     ]
    }
   ],
   "source": [
    "input = torch.randn(1, 1, 32, 32)\n",
    "out = net(input)\n",
    "print(out)"
   ]
  },
  {
   "cell_type": "markdown",
   "metadata": {},
   "source": [
    "# Reset"
   ]
  },
  {
   "cell_type": "code",
   "execution_count": 6,
   "metadata": {},
   "outputs": [],
   "source": [
    "# Zero the gradient buffers of all parameters and backprops with random gradients:\n",
    "net.zero_grad()\n",
    "out.backward( torch.randn( 1 , 10 ) )"
   ]
  },
  {
   "cell_type": "markdown",
   "metadata": {},
   "source": [
    "# Loss Function"
   ]
  },
  {
   "cell_type": "code",
   "execution_count": 7,
   "metadata": {},
   "outputs": [
    {
     "name": "stdout",
     "output_type": "stream",
     "text": [
      "tensor(0.5756, grad_fn=<MseLossBackward>)\n"
     ]
    }
   ],
   "source": [
    "output = net(input)\n",
    "target = torch.randn( 10 )  # a dummy target, for example\n",
    "target = target.view( 1 , -1 )  # make it the same shape as output\n",
    "criterion = nn.MSELoss() # Mean Squared Error\n",
    "\n",
    "loss = criterion( output , target )\n",
    "print( loss )"
   ]
  },
  {
   "cell_type": "code",
   "execution_count": 8,
   "metadata": {},
   "outputs": [
    {
     "name": "stdout",
     "output_type": "stream",
     "text": [
      "<MseLossBackward object at 0x7f7d37891470>\n",
      "<AddmmBackward object at 0x7f7d37891518>\n",
      "<AccumulateGrad object at 0x7f7d37891470>\n"
     ]
    }
   ],
   "source": [
    "# So, when we call loss.backward(), the whole graph is differentiated w.r.t. the loss\n",
    "print( loss.grad_fn )  # MSELoss\n",
    "print( loss.grad_fn.next_functions[0][0] )  # Linear\n",
    "print( loss.grad_fn.next_functions[0][0].next_functions[0][0] )  # ReLU"
   ]
  },
  {
   "cell_type": "markdown",
   "metadata": {},
   "source": [
    "# Backpropagation"
   ]
  },
  {
   "cell_type": "code",
   "execution_count": 9,
   "metadata": {},
   "outputs": [
    {
     "name": "stdout",
     "output_type": "stream",
     "text": [
      "conv1.bias.grad before backward\n",
      "tensor([0., 0., 0., 0., 0., 0.])\n",
      "conv1.bias.grad after backward\n",
      "tensor([-0.0142,  0.0078, -0.0067,  0.0184, -0.0058,  0.0044])\n"
     ]
    }
   ],
   "source": [
    "net.zero_grad()     # zeroes the gradient buffers of all parameters\n",
    "\n",
    "print('conv1.bias.grad before backward')\n",
    "print(net.conv1.bias.grad)\n",
    "\n",
    "loss.backward()\n",
    "\n",
    "print('conv1.bias.grad after backward')\n",
    "print(net.conv1.bias.grad)"
   ]
  },
  {
   "cell_type": "markdown",
   "metadata": {},
   "source": [
    "## Weight Update"
   ]
  },
  {
   "cell_type": "code",
   "execution_count": 10,
   "metadata": {},
   "outputs": [],
   "source": [
    "import torch.optim as optim\n",
    "\n",
    "# create your optimizer\n",
    "optimizer = optim.SGD( net.parameters() , lr = 0.01 )\n",
    "\n",
    "# in your training loop:\n",
    "optimizer.zero_grad()   # zero the gradient buffers\n",
    "output = net( input )\n",
    "loss = criterion( output , target )\n",
    "loss.backward()\n",
    "optimizer.step()    # Does the update"
   ]
  },
  {
   "cell_type": "code",
   "execution_count": null,
   "metadata": {},
   "outputs": [],
   "source": []
  }
 ],
 "metadata": {
  "kernelspec": {
   "display_name": "Python 3",
   "language": "python",
   "name": "python3"
  },
  "language_info": {
   "codemirror_mode": {
    "name": "ipython",
    "version": 3
   },
   "file_extension": ".py",
   "mimetype": "text/x-python",
   "name": "python",
   "nbconvert_exporter": "python",
   "pygments_lexer": "ipython3",
   "version": "3.6.9"
  }
 },
 "nbformat": 4,
 "nbformat_minor": 4
}
