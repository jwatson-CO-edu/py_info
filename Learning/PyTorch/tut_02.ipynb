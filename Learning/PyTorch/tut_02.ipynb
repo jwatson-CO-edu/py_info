{
 "cells": [
  {
   "cell_type": "markdown",
   "metadata": {},
   "source": [
    "* `autograd` (automatic differentiation) is an important part of all NN in pytorch\n",
    "* Backprop is defined by how the code is run, tracks operations, so every iteration can be different depending on the last operation\n",
    "* Computation Graph\n",
    "    - `Tensor`s are nodes\n",
    "    - `Function`s are edges\n",
    "* Use the `.backward()` function to calc the derivative of a tensor\n"
   ]
  },
  {
   "cell_type": "code",
   "execution_count": 11,
   "metadata": {},
   "outputs": [],
   "source": [
    "import torch"
   ]
  },
  {
   "cell_type": "code",
   "execution_count": 12,
   "metadata": {},
   "outputs": [
    {
     "name": "stdout",
     "output_type": "stream",
     "text": [
      "tensor([[1., 1.],\n",
      "        [1., 1.]], requires_grad=True)\n"
     ]
    }
   ],
   "source": [
    "# Create a tensor and begin tracking operations\n",
    "x = torch.ones( 2 , 2 , requires_grad = True )\n",
    "print( x )"
   ]
  },
  {
   "cell_type": "code",
   "execution_count": 13,
   "metadata": {},
   "outputs": [
    {
     "name": "stdout",
     "output_type": "stream",
     "text": [
      "tensor([[3., 3.],\n",
      "        [3., 3.]], grad_fn=<AddBackward0>)\n",
      "<AddBackward0 object at 0x7fcd7c2e1cc0>\n"
     ]
    }
   ],
   "source": [
    "# Do a tensor operation\n",
    "y = x + 2\n",
    "print( y )\n",
    "print( y.grad_fn )"
   ]
  },
  {
   "cell_type": "code",
   "execution_count": 14,
   "metadata": {},
   "outputs": [
    {
     "name": "stdout",
     "output_type": "stream",
     "text": [
      "tensor([[27., 27.],\n",
      "        [27., 27.]], grad_fn=<MulBackward0>) \n",
      " tensor(27., grad_fn=<MeanBackward0>)\n"
     ]
    }
   ],
   "source": [
    "z = y * y * 3\n",
    "out = z.mean()\n",
    "\n",
    "print( z , '\\n' , out )"
   ]
  },
  {
   "cell_type": "code",
   "execution_count": 15,
   "metadata": {},
   "outputs": [
    {
     "name": "stdout",
     "output_type": "stream",
     "text": [
      "False\n",
      "True\n",
      "<SumBackward0 object at 0x7fcd2f98e898>\n"
     ]
    }
   ],
   "source": [
    "a = torch.randn( 2 , 2 ) #- Create a random tensor `a`\n",
    "a = ( (a * 3) / (a - 1) ) # Do some math on `a`\n",
    "print( a.requires_grad ) #- Does this tensor track operations? (No)\n",
    "a.requires_grad_( True ) #- Set the tensor to track operations\n",
    "print( a.requires_grad ) #- Does this tensor track operations? (Yes)\n",
    "b = ( a * a ).sum() # ----- Define `b` in terms of `a`\n",
    "print( b.grad_fn ) # ------ Gradient function for `b`"
   ]
  },
  {
   "cell_type": "code",
   "execution_count": 16,
   "metadata": {},
   "outputs": [
    {
     "name": "stdout",
     "output_type": "stream",
     "text": [
      "tensor([[4.5000, 4.5000],\n",
      "        [4.5000, 4.5000]])\n"
     ]
    }
   ],
   "source": [
    "# Gradient of `out`\n",
    "out.backward()\n",
    "print( x.grad )"
   ]
  },
  {
   "cell_type": "markdown",
   "metadata": {},
   "source": [
    "* `torch.autograd` is an engine for computing vector-Jacobian product"
   ]
  },
  {
   "cell_type": "code",
   "execution_count": 19,
   "metadata": {},
   "outputs": [
    {
     "name": "stdout",
     "output_type": "stream",
     "text": [
      "tensor([  622.4786,   186.5931, -1040.9867], grad_fn=<MulBackward0>)\n",
      "tensor([1.0240e+02, 1.0240e+03, 1.0240e-01])\n"
     ]
    }
   ],
   "source": [
    "x = torch.randn(3, requires_grad=True)\n",
    "\n",
    "y = x * 2\n",
    "while y.data.norm() < 1000:\n",
    "    y = y * 2\n",
    "\n",
    "print( y )\n",
    "\n",
    "v = torch.tensor( [0.1, 1.0, 0.0001], dtype=torch.float )\n",
    "y.backward( v )\n",
    "\n",
    "print( x.grad )"
   ]
  },
  {
   "cell_type": "code",
   "execution_count": 21,
   "metadata": {},
   "outputs": [
    {
     "name": "stdout",
     "output_type": "stream",
     "text": [
      "True\n",
      "True\n",
      "False\n"
     ]
    }
   ],
   "source": [
    "print(x.requires_grad)\n",
    "print((x ** 2).requires_grad)\n",
    "\n",
    "with torch.no_grad(): # Disable ops tracking for the block\n",
    "    print((x ** 2).requires_grad)"
   ]
  },
  {
   "cell_type": "code",
   "execution_count": 22,
   "metadata": {},
   "outputs": [
    {
     "name": "stdout",
     "output_type": "stream",
     "text": [
      "True\n",
      "False\n",
      "tensor(True)\n"
     ]
    }
   ],
   "source": [
    "print(x.requires_grad)\n",
    "y = x.detach()\n",
    "print(y.requires_grad)\n",
    "print(x.eq(y).all())"
   ]
  },
  {
   "cell_type": "code",
   "execution_count": null,
   "metadata": {},
   "outputs": [],
   "source": []
  }
 ],
 "metadata": {
  "kernelspec": {
   "display_name": "Python 3",
   "language": "python",
   "name": "python3"
  },
  "language_info": {
   "codemirror_mode": {
    "name": "ipython",
    "version": 3
   },
   "file_extension": ".py",
   "mimetype": "text/x-python",
   "name": "python",
   "nbconvert_exporter": "python",
   "pygments_lexer": "ipython3",
   "version": "3.6.9"
  }
 },
 "nbformat": 4,
 "nbformat_minor": 4
}
